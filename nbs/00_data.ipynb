{
 "cells": [
  {
   "attachments": {},
   "cell_type": "markdown",
   "metadata": {},
   "source": [
    "# Data Sourcing\n",
    "\n",
    "> Pull data from Citi Velocity"
   ]
  },
  {
   "cell_type": "code",
   "execution_count": null,
   "metadata": {},
   "outputs": [],
   "source": [
    "#| default_exp data"
   ]
  },
  {
   "cell_type": "code",
   "execution_count": null,
   "metadata": {},
   "outputs": [],
   "source": [
    "#| hide\n",
    "from nbdev.showdoc import *"
   ]
  },
  {
   "cell_type": "code",
   "execution_count": null,
   "metadata": {},
   "outputs": [],
   "source": [
    "#| hide\n",
    "import http.client \n",
    "import ssl\n",
    "import json\n",
    "import ast\n",
    "import pandas as pd"
   ]
  },
  {
   "cell_type": "code",
   "execution_count": null,
   "metadata": {},
   "outputs": [],
   "source": [
    "#| export\n",
    "def get_cv_token(id='', secret=''):\n",
    "    conn = http.client.HTTPSConnection(\"api.citivelocity.com\")\n",
    "    headers = {\n",
    "        'content-type': \"application/x-www-form-urlencoded\",\n",
    "        \"Accept\": \"application/json\",\n",
    "        }\n",
    "    payload = \"client_id=\"+id+\"&client_secret=\"+secret+\"&grant_type=client_credentials&scope=/api\"\n",
    "    conn.request(\"POST\", \"/markets/cv/api/oauth2/token\", payload, headers)\n",
    "    res = conn.getresponse()\n",
    "    data = res.read()\n",
    "    return data.decode(\"utf-8\")\n"
   ]
  },
  {
   "cell_type": "code",
   "execution_count": null,
   "metadata": {},
   "outputs": [],
   "source": [
    "#| export\n",
    "def get_cv_data(id, token, payload):\n",
    "    conn = http.client.HTTPSConnection(\"api.citivelocity.com\")\n",
    "    token = ast.literal_eval(token)\n",
    "    payload = json.dumps(payload)\n",
    "    headers = {\n",
    "        'authorization': \"Bearer \"+token['access_token'],\n",
    "        'accept': \"application/json\",\n",
    "        'content-type': \"application/json\"\n",
    "        }\n",
    "    conn.request(\"POST\", \"/markets/analytics/chartingbe/rest/external/authed/data?client_id=\" + id, payload, headers)\n",
    "    res = conn.getresponse()\n",
    "    data = res.read()\n",
    "    return data.decode(\"utf-8\")"
   ]
  },
  {
   "cell_type": "code",
   "execution_count": null,
   "metadata": {},
   "outputs": [],
   "source": [
    "#| export\n",
    "def get_cv_data_df(id, token, payload):\n",
    "    data = get_cv_data(id, token, payload)\n",
    "    data = ast.literal_eval(data)\n",
    "\n",
    "    # Extract the required data from the dictionary\n",
    "    indicator_data = data['body']\n",
    "    indicators = list(indicator_data.keys())\n",
    "\n",
    "    # Create a DataFrame with the required columns and index\n",
    "    df = pd.DataFrame(index=indicator_data[indicators[0]]['x'])\n",
    "\n",
    "    # Add indicator columns to the DataFrame\n",
    "    for indicator in indicators:\n",
    "        df[indicator] = indicator_data[indicator]['c']\n",
    "\n",
    "    # Rename the index column to 'Date'\n",
    "    df.index.name = 'Date'\n",
    "    df.index = pd.to_datetime(df.index, format='%Y%m%d')\n",
    "\n",
    "    return df\n"
   ]
  },
  {
   "cell_type": "code",
   "execution_count": null,
   "metadata": {},
   "outputs": [],
   "source": [
    "#| hide\n",
    "# id = '08345866-fcf9-45d9-a4c6-cad82e15a95c'\n",
    "# secret = 'G8rK4oQ1cB3nM6vA8rV7sB1bK4oS0sS1vW0bJ4iW1kN8mL2aS8'\n",
    "# token = get_cv_token(id, secret)\n",
    "\n",
    "# payload = {\n",
    "#     \"startDate\": 20100101,\n",
    "#     \"endDate\": 20101231,\n",
    "#     \"tags\":[\n",
    "#     \"COMMODITIES.SPOT.SPOT_GOLD\",\n",
    "#     \"FX.SPOT.EUR.USD.CITI\",\n",
    "#     ],\n",
    "#     \"frequency\":\"DAILY\"\n",
    "# }\n",
    "# data = get_cv_data_df(id, token, payload)"
   ]
  },
  {
   "cell_type": "code",
   "execution_count": null,
   "metadata": {},
   "outputs": [],
   "source": [
    "# data"
   ]
  },
  {
   "cell_type": "code",
   "execution_count": null,
   "metadata": {},
   "outputs": [],
   "source": [
    "#| hide\n",
    "import nbdev; nbdev.nbdev_export()"
   ]
  }
 ],
 "metadata": {
  "kernelspec": {
   "display_name": "python3",
   "language": "python",
   "name": "python3"
  }
 },
 "nbformat": 4,
 "nbformat_minor": 4
}
