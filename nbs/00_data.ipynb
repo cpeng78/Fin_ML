{
 "cells": [
  {
   "attachments": {},
   "cell_type": "markdown",
   "metadata": {},
   "source": [
    "# Data Sourcing\n",
    "\n",
    "> Pull data from Citi Velocity"
   ]
  },
  {
   "cell_type": "code",
   "execution_count": null,
   "metadata": {},
   "outputs": [],
   "source": [
    "#| default_exp data"
   ]
  },
  {
   "cell_type": "code",
   "execution_count": null,
   "metadata": {},
   "outputs": [],
   "source": [
    "#| hide\n",
    "from nbdev.showdoc import *"
   ]
  },
  {
   "cell_type": "code",
   "execution_count": null,
   "metadata": {},
   "outputs": [],
   "source": [
    "#| hide\n",
    "import http.client \n",
    "import ssl\n",
    "import json\n",
    "import ast\n",
    "import pandas as pd"
   ]
  },
  {
   "cell_type": "code",
   "execution_count": null,
   "metadata": {},
   "outputs": [],
   "source": [
    "#| export\n",
    "def get_cv_token(id='', secret=''):\n",
    "    conn = http.client.HTTPSConnection(\"api.citivelocity.com\")\n",
    "    headers = {\n",
    "        'content-type': \"application/x-www-form-urlencoded\",\n",
    "        \"Accept\": \"application/json\",\n",
    "        }\n",
    "    payload = \"client_id=\"+id+\"&client_secret=\"+secret+\"&grant_type=client_credentials&scope=/api\"\n",
    "    conn.request(\"POST\", \"/markets/cv/api/oauth2/token\", payload, headers)\n",
    "    res = conn.getresponse()\n",
    "    data = res.read()\n",
    "    return data.decode(\"utf-8\")\n"
   ]
  },
  {
   "cell_type": "code",
   "execution_count": null,
   "metadata": {},
   "outputs": [],
   "source": [
    "#| export\n",
    "def get_cv_data(id, token, payload):\n",
    "    conn = http.client.HTTPSConnection(\"api.citivelocity.com\")\n",
    "    token = ast.literal_eval(token)\n",
    "    payload = json.dumps(payload)\n",
    "    headers = {\n",
    "        'authorization': \"Bearer \"+token['access_token'],\n",
    "        'accept': \"application/json\",\n",
    "        'content-type': \"application/json\"\n",
    "        }\n",
    "    conn.request(\"POST\", \"/markets/analytics/chartingbe/rest/external/authed/data?client_id=\" + id, payload, headers)\n",
    "    res = conn.getresponse()\n",
    "    data = res.read()\n",
    "    return data.decode(\"utf-8\")"
   ]
  },
  {
   "cell_type": "code",
   "execution_count": null,
   "metadata": {},
   "outputs": [],
   "source": [
    "#| export\n",
    "def get_cv_data_df(id, token, payload):\n",
    "    data = get_cv_data(id, token, payload)\n",
    "    data = ast.literal_eval(data)\n",
    "\n",
    "    # Extract the required data from the dictionary\n",
    "    indicator_data = data['body']\n",
    "    indicators = list(indicator_data.keys())\n",
    "\n",
    "    # Create a DataFrame with the required columns and index\n",
    "    df = pd.DataFrame(index=indicator_data[indicators[0]]['x'])\n",
    "\n",
    "    # Add indicator columns to the DataFrame\n",
    "    for indicator in indicators:\n",
    "        df[indicator] = indicator_data[indicator]['c']\n",
    "\n",
    "    # Rename the index column to 'Date'\n",
    "    df.index.name = 'Date'\n",
    "    df.index = pd.to_datetime(df.index, format='%Y%m%d')\n",
    "\n",
    "    return df\n"
   ]
  },
  {
   "cell_type": "code",
   "execution_count": null,
   "metadata": {},
   "outputs": [],
   "source": [
    "#| hide\n",
    "id = '08345866-fcf9-45d9-a4c6-cad82e15a95c'\n",
    "secret = 'G8rK4oQ1cB3nM6vA8rV7sB1bK4oS0sS1vW0bJ4iW1kN8mL2aS8'\n",
    "token = get_cv_token(id, secret)\n",
    "\n",
    "payload = {\n",
    "    \"startDate\": 20100101,\n",
    "    \"endDate\": 20101231,\n",
    "    \"tags\":[\n",
    "    \"COMMODITIES.SPOT.SPOT_GOLD\",\n",
    "    \"FX.SPOT.EUR.USD.CITI\",\n",
    "    ],\n",
    "    \"frequency\":\"DAILY\"\n",
    "}\n",
    "data = get_cv_data_df(id, token, payload)"
   ]
  },
  {
   "cell_type": "code",
   "execution_count": null,
   "metadata": {},
   "outputs": [
    {
     "data": {
      "text/html": [
       "<div>\n",
       "<style scoped>\n",
       "    .dataframe tbody tr th:only-of-type {\n",
       "        vertical-align: middle;\n",
       "    }\n",
       "\n",
       "    .dataframe tbody tr th {\n",
       "        vertical-align: top;\n",
       "    }\n",
       "\n",
       "    .dataframe thead th {\n",
       "        text-align: right;\n",
       "    }\n",
       "</style>\n",
       "<table border=\"1\" class=\"dataframe\">\n",
       "  <thead>\n",
       "    <tr style=\"text-align: right;\">\n",
       "      <th></th>\n",
       "      <th>COMMODITIES.SPOT.SPOT_GOLD</th>\n",
       "      <th>FX.SPOT.EUR.USD.CITI</th>\n",
       "    </tr>\n",
       "    <tr>\n",
       "      <th>Date</th>\n",
       "      <th></th>\n",
       "      <th></th>\n",
       "    </tr>\n",
       "  </thead>\n",
       "  <tbody>\n",
       "    <tr>\n",
       "      <th>2010-01-01</th>\n",
       "      <td>1097.35</td>\n",
       "      <td>1.43260</td>\n",
       "    </tr>\n",
       "    <tr>\n",
       "      <th>2010-01-04</th>\n",
       "      <td>1120.40</td>\n",
       "      <td>1.44380</td>\n",
       "    </tr>\n",
       "    <tr>\n",
       "      <th>2010-01-05</th>\n",
       "      <td>1119.05</td>\n",
       "      <td>1.44145</td>\n",
       "    </tr>\n",
       "    <tr>\n",
       "      <th>2010-01-06</th>\n",
       "      <td>1138.90</td>\n",
       "      <td>1.43885</td>\n",
       "    </tr>\n",
       "    <tr>\n",
       "      <th>2010-01-07</th>\n",
       "      <td>1132.30</td>\n",
       "      <td>1.43275</td>\n",
       "    </tr>\n",
       "    <tr>\n",
       "      <th>...</th>\n",
       "      <td>...</td>\n",
       "      <td>...</td>\n",
       "    </tr>\n",
       "    <tr>\n",
       "      <th>2010-12-27</th>\n",
       "      <td>1384.10</td>\n",
       "      <td>1.31485</td>\n",
       "    </tr>\n",
       "    <tr>\n",
       "      <th>2010-12-28</th>\n",
       "      <td>1406.39</td>\n",
       "      <td>1.31305</td>\n",
       "    </tr>\n",
       "    <tr>\n",
       "      <th>2010-12-29</th>\n",
       "      <td>1410.95</td>\n",
       "      <td>1.31345</td>\n",
       "    </tr>\n",
       "    <tr>\n",
       "      <th>2010-12-30</th>\n",
       "      <td>1404.45</td>\n",
       "      <td>1.32820</td>\n",
       "    </tr>\n",
       "    <tr>\n",
       "      <th>2010-12-31</th>\n",
       "      <td>1421.45</td>\n",
       "      <td>1.34155</td>\n",
       "    </tr>\n",
       "  </tbody>\n",
       "</table>\n",
       "<p>261 rows × 2 columns</p>\n",
       "</div>"
      ],
      "text/plain": [
       "            COMMODITIES.SPOT.SPOT_GOLD  FX.SPOT.EUR.USD.CITI\n",
       "Date                                                        \n",
       "2010-01-01                     1097.35               1.43260\n",
       "2010-01-04                     1120.40               1.44380\n",
       "2010-01-05                     1119.05               1.44145\n",
       "2010-01-06                     1138.90               1.43885\n",
       "2010-01-07                     1132.30               1.43275\n",
       "...                                ...                   ...\n",
       "2010-12-27                     1384.10               1.31485\n",
       "2010-12-28                     1406.39               1.31305\n",
       "2010-12-29                     1410.95               1.31345\n",
       "2010-12-30                     1404.45               1.32820\n",
       "2010-12-31                     1421.45               1.34155\n",
       "\n",
       "[261 rows x 2 columns]"
      ]
     },
     "execution_count": null,
     "metadata": {},
     "output_type": "execute_result"
    }
   ],
   "source": [
    "data"
   ]
  },
  {
   "cell_type": "code",
   "execution_count": null,
   "metadata": {},
   "outputs": [],
   "source": [
    "#| hide\n",
    "import nbdev; nbdev.nbdev_export()"
   ]
  }
 ],
 "metadata": {
  "kernelspec": {
   "display_name": "python3",
   "language": "python",
   "name": "python3"
  }
 },
 "nbformat": 4,
 "nbformat_minor": 4
}
